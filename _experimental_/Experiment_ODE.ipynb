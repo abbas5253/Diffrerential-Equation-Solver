{
 "cells": [
  {
   "cell_type": "code",
   "execution_count": 35,
   "metadata": {},
   "outputs": [],
   "source": [
    "import torch\n",
    "from torch import nn, optim\n",
    "import torch.nn.functional as F"
   ]
  },
  {
   "cell_type": "code",
   "execution_count": 162,
   "metadata": {},
   "outputs": [],
   "source": [
    "class Net(nn.Module):\n",
    "    def __init__(self):\n",
    "        \n",
    "        super(Net, self).__init__()\n",
    "        self.fc1 = nn.Linear(1, 24)\n",
    "        self.fc2 = nn.Linear(24, 64)\n",
    "        self.fc3 = nn.Linear(64, 256)\n",
    "        self.fc4 = nn.Linear(256, 1)\n",
    "        self.softplus = nn.ReLU()\n",
    "        \n",
    "    def forward(self, x):\n",
    "        \n",
    "        x = self.fc1(x)\n",
    "        x = self.softplus(x)\n",
    "        x = self.fc2(x)\n",
    "        x = self.softplus(x)\n",
    "        x = self.fc3(x)\n",
    "        x = self.softplus(x)\n",
    "        x = self.fc4(x)\n",
    "        \n",
    "        return x    "
   ]
  },
  {
   "cell_type": "code",
   "execution_count": 163,
   "metadata": {},
   "outputs": [
    {
     "name": "stdout",
     "output_type": "stream",
     "text": [
      "Net(\n",
      "  (fc1): Linear(in_features=1, out_features=24, bias=True)\n",
      "  (fc2): Linear(in_features=24, out_features=64, bias=True)\n",
      "  (fc3): Linear(in_features=64, out_features=256, bias=True)\n",
      "  (fc4): Linear(in_features=256, out_features=1, bias=True)\n",
      "  (softplus): ReLU()\n",
      ")\n"
     ]
    }
   ],
   "source": [
    "net = Net()\n",
    "print(net)\n"
   ]
  },
  {
   "cell_type": "code",
   "execution_count": 164,
   "metadata": {},
   "outputs": [],
   "source": [
    "def opt_loss(point, pred):\n",
    "    point.requires_grad_(True)\n",
    "    dx = torch.autograd.grad(net(point), point)\n",
    "    return (dx[0] - pred)**2 + (net(torch.tensor([0.]))-torch.tensor([1.]))**2"
   ]
  },
  {
   "cell_type": "code",
   "execution_count": 166,
   "metadata": {},
   "outputs": [],
   "source": [
    "optimizer = optim.Adam(net.parameters(), lr = 0.001)"
   ]
  },
  {
   "cell_type": "code",
   "execution_count": 167,
   "metadata": {},
   "outputs": [],
   "source": [
    "train_points = torch.rand((100,1 ))"
   ]
  },
  {
   "cell_type": "code",
   "execution_count": 168,
   "metadata": {},
   "outputs": [
    {
     "data": {
      "text/plain": [
       "torch.Size([100, 1])"
      ]
     },
     "execution_count": 168,
     "metadata": {},
     "output_type": "execute_result"
    }
   ],
   "source": [
    "train_points.shape"
   ]
  },
  {
   "cell_type": "markdown",
   "metadata": {},
   "source": [
    "Lets suppose a differential equations y'(x) = y(x), y(x=0) = 1"
   ]
  },
  {
   "cell_type": "code",
   "execution_count": 169,
   "metadata": {},
   "outputs": [
    {
     "name": "stdout",
     "output_type": "stream",
     "text": [
      "Epoch 0 - Training loss: tensor([0.9746], grad_fn=<DivBackward0>)\n",
      "Epoch 100 - Training loss: tensor([0.4331], grad_fn=<DivBackward0>)\n",
      "Epoch 200 - Training loss: tensor([0.3568], grad_fn=<DivBackward0>)\n",
      "Epoch 300 - Training loss: tensor([0.3707], grad_fn=<DivBackward0>)\n",
      "Epoch 400 - Training loss: tensor([0.4769], grad_fn=<DivBackward0>)\n",
      "Epoch 500 - Training loss: tensor([0.3543], grad_fn=<DivBackward0>)\n",
      "Epoch 600 - Training loss: tensor([0.3885], grad_fn=<DivBackward0>)\n",
      "Epoch 700 - Training loss: tensor([0.4781], grad_fn=<DivBackward0>)\n",
      "Epoch 800 - Training loss: tensor([0.3962], grad_fn=<DivBackward0>)\n",
      "Epoch 900 - Training loss: tensor([0.3327], grad_fn=<DivBackward0>)\n"
     ]
    }
   ],
   "source": [
    "for i in range(1000):\n",
    "    \n",
    "    running_loss = 0\n",
    "    \n",
    "    for point in train_points:\n",
    "\n",
    "        pred = net(point)\n",
    "        loss = opt_loss(pred, point)\n",
    "        \n",
    "        loss.backward()\n",
    "        \n",
    "        optimizer.step()\n",
    "        \n",
    "        running_loss += loss\n",
    "        \n",
    "    if (i % 100 == 0):\n",
    "        print(\"Epoch {} - Training loss: {}\".format(i, running_loss/len(train_points))) "
   ]
  }
 ],
 "metadata": {
  "kernelspec": {
   "display_name": "Python 3",
   "language": "python",
   "name": "python3"
  },
  "language_info": {
   "codemirror_mode": {
    "name": "ipython",
    "version": 3
   },
   "file_extension": ".py",
   "mimetype": "text/x-python",
   "name": "python",
   "nbconvert_exporter": "python",
   "pygments_lexer": "ipython3",
   "version": "3.7.7"
  }
 },
 "nbformat": 4,
 "nbformat_minor": 4
}
